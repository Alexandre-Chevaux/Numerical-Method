{
 "cells": [
  {
   "cell_type": "markdown",
   "metadata": {},
   "source": [
    "### Projet 4: Incertitude en polynômes du chaos"
   ]
  },
  {
   "cell_type": "markdown",
   "metadata": {},
   "source": [
    "L'objetif de cette partie est la résolution de l'EDP:\n",
    "\n",
    "$\\frac{\\partial \\phi_{0}}{\\partial t} +\\frac{\\partial^{2}\\phi_{0}}{\\partial x^{2}}(\\frac{\\mu^{2}+\\nu^{2}}{2})+\\frac{\\partial^{2}\\phi_{1}}{\\partial x^{2}}(\\mu\\nu)+\\frac{\\partial^{2}\\phi_{2}}{\\partial x^{2}}\\times \\nu^2+k(x_{\\infty}-x)\\frac{\\partial \\phi_{0}}{\\partial x} +x\\phi_{0}+(1-g)\\phi_{0}=0$\n",
    "$\\Leftrightarrow \\frac{\\partial\\phi_{0}}{\\partial t} +\\frac{\\partial^{2}\\phi_{0}}{\\partial x^{2}}(\\frac{\\mu^{2}+\\nu^{2}}{2})+\\frac{\\partial^{2}\\phi_{1}}{\\partial x^{2}}(\\mu\\nu)+\\frac{\\partial^{2}\\phi_{2}}{\\partial x^{2}}\\times \\nu^2+k(x_{\\infty}-x)\\frac{\\partial \\phi_{0}}{\\partial x} +x\\phi_{0}+(1-\\mu(t)-\\eta x)\\phi_{0}=0$\n",
    "\n",
    "Ici pour résoudre cette équation pour $\\phi_{0}$, on va considérer:\n",
    "\n",
    "$\\frac{\\partial^{2}\\phi_{1}}{\\partial x^{2}}=0$\n",
    "\n",
    "$\\frac{\\partial^{2}\\phi_{1}}{\\partial x^{2}}=0$\n",
    "\n",
    "$u(0)=0$\n",
    "\n",
    "L'équation est donc:\n",
    "\n",
    "$\\frac{\\partial\\phi_{0}}{\\partial t} +\\frac{\\partial^{2}\\phi_{0}}{\\partial x^{2}}(\\frac{\\mu^{2}+\\nu^{2}}{2})++k(x_{\\infty}-x)\\frac{\\partial \\phi_{0}}{\\partial x} +x\\phi_{0}+(1-\\eta x)\\phi_{0}=0$\n",
    "\n",
    "$\\Leftrightarrow \\frac{\\partial\\phi_{0}}{\\partial t} +\\frac{\\partial^{2}\\phi_{0}}{\\partial x^{2}}(\\frac{\\mu^{2}+\\nu^{2}}{2})+kx_{\\infty}\\frac{\\partial \\phi_{0}}{\\partial x}-x\\frac{\\partial \\phi_{0}}{\\partial x} +(1-\\eta)x\\phi_{0}+\\phi_{0}=0$\n"
   ]
  },
  {
   "cell_type": "code",
   "execution_count": 38,
   "metadata": {},
   "outputs": [],
   "source": [
    "import numpy as np\n",
    "import matplotlib.pyplot as plt\n",
    "import pandas as pd\n",
    "import seaborn as sns"
   ]
  },
  {
   "cell_type": "markdown",
   "metadata": {},
   "source": [
    "### Définition des constantes:"
   ]
  },
  {
   "cell_type": "code",
   "execution_count": 39,
   "metadata": {},
   "outputs": [],
   "source": [
    "n=100 #On prend 100 points pour notre modèle\n",
    "mu=1\n",
    "nu=1\n",
    "eta=2\n",
    "xi= np.random.normal(0, 1, n)\n",
    "k=0.3\n",
    "x_inf=0.005"
   ]
  },
  {
   "cell_type": "code",
   "execution_count": 40,
   "metadata": {},
   "outputs": [],
   "source": [
    "### Construction de la matrice tridiagonale\n",
    "T=1\n",
    "S_0=1\n",
    "x_max=2*S_0\n",
    "m=10\n",
    "dt=T/n\n",
    "dx=x_max/m\n",
    "\n",
    "\n",
    "##2ème terme\n",
    "mat_tridiag=np.eye(m)*2+np.eye(m,k=1)+ np.eye(m,k=-1)\n",
    "mat_tridiag=mat_tridiag*((mu*mu+nu*nu)/2)\n",
    "\n",
    "##3ème terme\n",
    "iden_2=-np.eye(m)+np.eye(m,k=-1)\n",
    "iden_2=iden_2*(k*x_inf)\n",
    "\n",
    "###4ème terme\n",
    "iden= np.eye(m)+np.eye(m,k=-1)\n",
    "cpt_row=0\n",
    "cpt_col=0\n",
    "for i in iden:\n",
    "    iden[cpt_row,cpt_col-1]=k*cpt_row\n",
    "    iden[cpt_row,cpt_col]=-k*cpt_row\n",
    "    cpt_row=cpt_row+1\n",
    "    cpt_col=cpt_col+1\n",
    "\n",
    "##5ème terme\n",
    "iden_3=np.eye(m)\n",
    "cpt_row=0\n",
    "cpt_col=0\n",
    "for i in iden_3:\n",
    "    iden[cpt_row,cpt_col]=(1-eta)*cpt_row\n",
    "    cpt_row=cpt_row+1\n",
    "    cpt_col=cpt_col+1\n",
    "\n",
    "##6ème terme\n",
    "iden_3=np.eye(m)\n",
    "\n",
    "\n",
    "\n",
    "\n",
    "\n",
    "\n",
    "\n"
   ]
  },
  {
   "cell_type": "code",
   "execution_count": 41,
   "metadata": {},
   "outputs": [],
   "source": [
    "## Définition des conditions initiales\n",
    "\n",
    "iden[len(iden)-1]=0\n",
    "iden_2[len(iden_2)-1]=0\n",
    "iden_3[len(iden_3)-1]=0\n",
    "\n",
    "mat_tridiag[len(mat_tridiag)-1]=0"
   ]
  },
  {
   "cell_type": "code",
   "execution_count": 44,
   "metadata": {},
   "outputs": [
    {
     "name": "stdout",
     "output_type": "stream",
     "text": [
      "[[ 0.0000e+00  0.0000e+00  0.0000e+00  0.0000e+00  0.0000e+00  0.0000e+00\n",
      "   0.0000e+00  0.0000e+00  0.0000e+00  0.0000e+00]\n",
      " [ 1.3015e-02  2.0015e-02  1.0000e-02  0.0000e+00  0.0000e+00  0.0000e+00\n",
      "   0.0000e+00  0.0000e+00  0.0000e+00  0.0000e+00]\n",
      " [ 0.0000e+00  1.6015e-02  1.0015e-02  1.0000e-02  0.0000e+00  0.0000e+00\n",
      "   0.0000e+00  0.0000e+00  0.0000e+00  0.0000e+00]\n",
      " [ 0.0000e+00  0.0000e+00  1.9015e-02  1.5000e-05  1.0000e-02  0.0000e+00\n",
      "   0.0000e+00  0.0000e+00  0.0000e+00  0.0000e+00]\n",
      " [ 0.0000e+00  0.0000e+00  0.0000e+00  2.2015e-02 -9.9850e-03  1.0000e-02\n",
      "   0.0000e+00  0.0000e+00  0.0000e+00  0.0000e+00]\n",
      " [ 0.0000e+00  0.0000e+00  0.0000e+00  0.0000e+00  2.5015e-02 -1.9985e-02\n",
      "   1.0000e-02  0.0000e+00  0.0000e+00  0.0000e+00]\n",
      " [ 0.0000e+00  0.0000e+00  0.0000e+00  0.0000e+00  0.0000e+00  2.8015e-02\n",
      "  -2.9985e-02  1.0000e-02  0.0000e+00  0.0000e+00]\n",
      " [ 0.0000e+00  0.0000e+00  0.0000e+00  0.0000e+00  0.0000e+00  0.0000e+00\n",
      "   3.1015e-02 -3.9985e-02  1.0000e-02  0.0000e+00]\n",
      " [ 0.0000e+00  0.0000e+00  0.0000e+00  0.0000e+00  0.0000e+00  0.0000e+00\n",
      "   0.0000e+00  3.4015e-02 -4.9985e-02  1.0000e-02]\n",
      " [ 0.0000e+00  0.0000e+00  0.0000e+00  0.0000e+00  0.0000e+00  0.0000e+00\n",
      "   0.0000e+00  0.0000e+00  0.0000e+00  0.0000e+00]]\n"
     ]
    }
   ],
   "source": [
    "mat=(dt)*iden+(dt)*mat_tridiag+dt*iden_2+dt*iden_3\n",
    "mat[0]=0\n",
    "print(mat)"
   ]
  },
  {
   "cell_type": "code",
   "execution_count": 45,
   "metadata": {},
   "outputs": [
    {
     "data": {
      "text/plain": [
       "[<matplotlib.lines.Line2D at 0x1b2edd0cac8>]"
      ]
     },
     "execution_count": 45,
     "metadata": {},
     "output_type": "execute_result"
    },
    {
     "data": {
      "image/png": "[encoded data removed]",
      "text/plain": [
       "<matplotlib.figure.Figure at 0x1b2edc8a400>"
      ]
     },
     "metadata": {},
     "output_type": "display_data"
    }
   ],
   "source": [
    "U=[]\n",
    "U=[np.sin(np.pi*k/x_max) for k in np.linspace(0,x_max,m)]\n",
    "V=np.dot(mat,U)\n",
    "plt.plot(V)"
   ]
  }
 ],
 "metadata": {
  "kernelspec": {
   "display_name": "Python 3",
   "language": "python",
   "name": "python3"
  },
  "language_info": {
   "codemirror_mode": {
    "name": "ipython",
    "version": 3
   },
   "file_extension": ".py",
   "mimetype": "text/x-python",
   "name": "python",
   "nbconvert_exporter": "python",
   "pygments_lexer": "ipython3",
   "version": "3.6.4"
  }
 },
 "nbformat": 4,
 "nbformat_minor": 2
}
